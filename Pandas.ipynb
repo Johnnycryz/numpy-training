{
 "cells": [
  {
   "cell_type": "code",
   "execution_count": 4,
   "id": "80c1751e",
   "metadata": {},
   "outputs": [],
   "source": [
    "import pandas as pd\n",
    "import numpy as np"
   ]
  },
  {
   "cell_type": "markdown",
   "id": "f04ea1e4",
   "metadata": {},
   "source": [
    "Pandas has two data structures, the series and dataframe"
   ]
  },
  {
   "cell_type": "markdown",
   "id": "52c9c3c2",
   "metadata": {},
   "source": [
    "### Panda Series"
   ]
  },
  {
   "cell_type": "code",
   "execution_count": null,
   "id": "e99d69df",
   "metadata": {},
   "outputs": [],
   "source": []
  },
  {
   "cell_type": "code",
   "execution_count": 5,
   "id": "c2965d80",
   "metadata": {},
   "outputs": [],
   "source": [
    "g7_pop = pd.Series([36.8, 50.8, 65.3, 69.7, 80.5, 88.65, 90.0])"
   ]
  },
  {
   "cell_type": "code",
   "execution_count": 6,
   "id": "b334c6f5",
   "metadata": {},
   "outputs": [
    {
     "data": {
      "text/plain": [
       "0    36.80\n",
       "1    50.80\n",
       "2    65.30\n",
       "3    69.70\n",
       "4    80.50\n",
       "5    88.65\n",
       "6    90.00\n",
       "dtype: float64"
      ]
     },
     "execution_count": 6,
     "metadata": {},
     "output_type": "execute_result"
    }
   ],
   "source": [
    "g7_pop"
   ]
  },
  {
   "cell_type": "code",
   "execution_count": 7,
   "id": "63e60992",
   "metadata": {},
   "outputs": [],
   "source": [
    "### Series can have a name\n",
    "g7_pop.name = \"G7 Population in Millions\""
   ]
  },
  {
   "cell_type": "code",
   "execution_count": 8,
   "id": "06ba83c2",
   "metadata": {},
   "outputs": [
    {
     "data": {
      "text/plain": [
       "0    36.80\n",
       "1    50.80\n",
       "2    65.30\n",
       "3    69.70\n",
       "4    80.50\n",
       "5    88.65\n",
       "6    90.00\n",
       "Name: G7 Population in Millions, dtype: float64"
      ]
     },
     "execution_count": 8,
     "metadata": {},
     "output_type": "execute_result"
    }
   ],
   "source": [
    "g7_pop"
   ]
  },
  {
   "cell_type": "code",
   "execution_count": 9,
   "id": "66668857",
   "metadata": {},
   "outputs": [
    {
     "data": {
      "text/plain": [
       "dtype('float64')"
      ]
     },
     "execution_count": 9,
     "metadata": {},
     "output_type": "execute_result"
    }
   ],
   "source": [
    "#to check the type\n",
    "\n",
    "g7_pop.dtype"
   ]
  },
  {
   "cell_type": "code",
   "execution_count": 10,
   "id": "c82127ca",
   "metadata": {},
   "outputs": [
    {
     "data": {
      "text/plain": [
       "array([36.8 , 50.8 , 65.3 , 69.7 , 80.5 , 88.65, 90.  ])"
      ]
     },
     "execution_count": 10,
     "metadata": {},
     "output_type": "execute_result"
    }
   ],
   "source": [
    "#you can also check the values for each index\n",
    "\n",
    "g7_pop.values"
   ]
  },
  {
   "cell_type": "code",
   "execution_count": 11,
   "id": "72188c2f",
   "metadata": {},
   "outputs": [
    {
     "data": {
      "text/plain": [
       "numpy.ndarray"
      ]
     },
     "execution_count": 11,
     "metadata": {},
     "output_type": "execute_result"
    }
   ],
   "source": [
    "type(g7_pop.values)"
   ]
  },
  {
   "cell_type": "code",
   "execution_count": 12,
   "id": "0fb96502",
   "metadata": {},
   "outputs": [
    {
     "data": {
      "text/plain": [
       "36.8"
      ]
     },
     "execution_count": 12,
     "metadata": {},
     "output_type": "execute_result"
    }
   ],
   "source": [
    "# you can also call elements inside the array just as in python list\n",
    "\n",
    "g7_pop[0]"
   ]
  },
  {
   "cell_type": "code",
   "execution_count": 14,
   "id": "d397737c",
   "metadata": {},
   "outputs": [
    {
     "data": {
      "text/plain": [
       "50.8"
      ]
     },
     "execution_count": 14,
     "metadata": {},
     "output_type": "execute_result"
    }
   ],
   "source": [
    "g7_pop[1]"
   ]
  },
  {
   "cell_type": "code",
   "execution_count": 19,
   "id": "5602fe11",
   "metadata": {},
   "outputs": [
    {
     "ename": "KeyError",
     "evalue": "-1",
     "output_type": "error",
     "traceback": [
      "\u001b[1;31m---------------------------------------------------------------------------\u001b[0m",
      "\u001b[1;31mValueError\u001b[0m                                Traceback (most recent call last)",
      "File \u001b[1;32mC:\\ProgramData\\anaconda3\\lib\\site-packages\\pandas\\core\\indexes\\range.py:391\u001b[0m, in \u001b[0;36mRangeIndex.get_loc\u001b[1;34m(self, key, method, tolerance)\u001b[0m\n\u001b[0;32m    390\u001b[0m \u001b[38;5;28;01mtry\u001b[39;00m:\n\u001b[1;32m--> 391\u001b[0m     \u001b[38;5;28;01mreturn\u001b[39;00m \u001b[38;5;28;43mself\u001b[39;49m\u001b[38;5;241;43m.\u001b[39;49m\u001b[43m_range\u001b[49m\u001b[38;5;241;43m.\u001b[39;49m\u001b[43mindex\u001b[49m\u001b[43m(\u001b[49m\u001b[43mnew_key\u001b[49m\u001b[43m)\u001b[49m\n\u001b[0;32m    392\u001b[0m \u001b[38;5;28;01mexcept\u001b[39;00m \u001b[38;5;167;01mValueError\u001b[39;00m \u001b[38;5;28;01mas\u001b[39;00m err:\n",
      "\u001b[1;31mValueError\u001b[0m: -1 is not in range",
      "\nThe above exception was the direct cause of the following exception:\n",
      "\u001b[1;31mKeyError\u001b[0m                                  Traceback (most recent call last)",
      "Cell \u001b[1;32mIn[19], line 2\u001b[0m\n\u001b[0;32m      1\u001b[0m \u001b[38;5;66;03m## Pandas series only support positive indexing, so [-1] will return an error\u001b[39;00m\n\u001b[1;32m----> 2\u001b[0m \u001b[43mg7_pop\u001b[49m\u001b[43m[\u001b[49m\u001b[38;5;241;43m-\u001b[39;49m\u001b[38;5;241;43m1\u001b[39;49m\u001b[43m]\u001b[49m\n",
      "File \u001b[1;32mC:\\ProgramData\\anaconda3\\lib\\site-packages\\pandas\\core\\series.py:981\u001b[0m, in \u001b[0;36mSeries.__getitem__\u001b[1;34m(self, key)\u001b[0m\n\u001b[0;32m    978\u001b[0m     \u001b[38;5;28;01mreturn\u001b[39;00m \u001b[38;5;28mself\u001b[39m\u001b[38;5;241m.\u001b[39m_values[key]\n\u001b[0;32m    980\u001b[0m \u001b[38;5;28;01melif\u001b[39;00m key_is_scalar:\n\u001b[1;32m--> 981\u001b[0m     \u001b[38;5;28;01mreturn\u001b[39;00m \u001b[38;5;28;43mself\u001b[39;49m\u001b[38;5;241;43m.\u001b[39;49m\u001b[43m_get_value\u001b[49m\u001b[43m(\u001b[49m\u001b[43mkey\u001b[49m\u001b[43m)\u001b[49m\n\u001b[0;32m    983\u001b[0m \u001b[38;5;28;01mif\u001b[39;00m is_hashable(key):\n\u001b[0;32m    984\u001b[0m     \u001b[38;5;66;03m# Otherwise index.get_value will raise InvalidIndexError\u001b[39;00m\n\u001b[0;32m    985\u001b[0m     \u001b[38;5;28;01mtry\u001b[39;00m:\n\u001b[0;32m    986\u001b[0m         \u001b[38;5;66;03m# For labels that don't resolve as scalars like tuples and frozensets\u001b[39;00m\n",
      "File \u001b[1;32mC:\\ProgramData\\anaconda3\\lib\\site-packages\\pandas\\core\\series.py:1089\u001b[0m, in \u001b[0;36mSeries._get_value\u001b[1;34m(self, label, takeable)\u001b[0m\n\u001b[0;32m   1086\u001b[0m     \u001b[38;5;28;01mreturn\u001b[39;00m \u001b[38;5;28mself\u001b[39m\u001b[38;5;241m.\u001b[39m_values[label]\n\u001b[0;32m   1088\u001b[0m \u001b[38;5;66;03m# Similar to Index.get_value, but we do not fall back to positional\u001b[39;00m\n\u001b[1;32m-> 1089\u001b[0m loc \u001b[38;5;241m=\u001b[39m \u001b[38;5;28;43mself\u001b[39;49m\u001b[38;5;241;43m.\u001b[39;49m\u001b[43mindex\u001b[49m\u001b[38;5;241;43m.\u001b[39;49m\u001b[43mget_loc\u001b[49m\u001b[43m(\u001b[49m\u001b[43mlabel\u001b[49m\u001b[43m)\u001b[49m\n\u001b[0;32m   1090\u001b[0m \u001b[38;5;28;01mreturn\u001b[39;00m \u001b[38;5;28mself\u001b[39m\u001b[38;5;241m.\u001b[39mindex\u001b[38;5;241m.\u001b[39m_get_values_for_loc(\u001b[38;5;28mself\u001b[39m, loc, label)\n",
      "File \u001b[1;32mC:\\ProgramData\\anaconda3\\lib\\site-packages\\pandas\\core\\indexes\\range.py:393\u001b[0m, in \u001b[0;36mRangeIndex.get_loc\u001b[1;34m(self, key, method, tolerance)\u001b[0m\n\u001b[0;32m    391\u001b[0m         \u001b[38;5;28;01mreturn\u001b[39;00m \u001b[38;5;28mself\u001b[39m\u001b[38;5;241m.\u001b[39m_range\u001b[38;5;241m.\u001b[39mindex(new_key)\n\u001b[0;32m    392\u001b[0m     \u001b[38;5;28;01mexcept\u001b[39;00m \u001b[38;5;167;01mValueError\u001b[39;00m \u001b[38;5;28;01mas\u001b[39;00m err:\n\u001b[1;32m--> 393\u001b[0m         \u001b[38;5;28;01mraise\u001b[39;00m \u001b[38;5;167;01mKeyError\u001b[39;00m(key) \u001b[38;5;28;01mfrom\u001b[39;00m \u001b[38;5;21;01merr\u001b[39;00m\n\u001b[0;32m    394\u001b[0m \u001b[38;5;28mself\u001b[39m\u001b[38;5;241m.\u001b[39m_check_indexing_error(key)\n\u001b[0;32m    395\u001b[0m \u001b[38;5;28;01mraise\u001b[39;00m \u001b[38;5;167;01mKeyError\u001b[39;00m(key)\n",
      "\u001b[1;31mKeyError\u001b[0m: -1"
     ]
    }
   ],
   "source": [
    "## Pandas series only support positive indexing, so [-1] will return an error\n",
    "g7_pop[-1]"
   ]
  },
  {
   "cell_type": "code",
   "execution_count": 20,
   "id": "1b59815e",
   "metadata": {},
   "outputs": [
    {
     "data": {
      "text/plain": [
       "6    90.0\n",
       "Name: G7 Population in Millions, dtype: float64"
      ]
     },
     "execution_count": 20,
     "metadata": {},
     "output_type": "execute_result"
    }
   ],
   "source": [
    "# to get element in a pandas series from the back or end, use 'tail' method\n",
    "g7_pop.tail(1)\n",
    "\n",
    "# 1, will print out the last element"
   ]
  },
  {
   "cell_type": "code",
   "execution_count": 24,
   "id": "753be2ec",
   "metadata": {},
   "outputs": [
    {
     "data": {
      "text/plain": [
       "5    88.65\n",
       "6    90.00\n",
       "Name: G7 Population in Millions, dtype: float64"
      ]
     },
     "execution_count": 24,
     "metadata": {},
     "output_type": "execute_result"
    }
   ],
   "source": [
    "g7_pop.tail(2)\n",
    "\n",
    "# 2, will print out the last two element"
   ]
  },
  {
   "cell_type": "code",
   "execution_count": 25,
   "id": "4cd747b7",
   "metadata": {},
   "outputs": [
    {
     "data": {
      "text/plain": [
       "RangeIndex(start=0, stop=7, step=1)"
      ]
     },
     "execution_count": 25,
     "metadata": {},
     "output_type": "execute_result"
    }
   ],
   "source": [
    "g7_pop.index"
   ]
  },
  {
   "cell_type": "code",
   "execution_count": 26,
   "id": "43a75e89",
   "metadata": {},
   "outputs": [
    {
     "data": {
      "text/plain": [
       "0    36.80\n",
       "1    50.80\n",
       "2    65.30\n",
       "3    69.70\n",
       "4    80.50\n",
       "5    88.65\n",
       "6    90.00\n",
       "Name: G7 Population in Millions, dtype: float64"
      ]
     },
     "execution_count": 26,
     "metadata": {},
     "output_type": "execute_result"
    }
   ],
   "source": [
    "g7_pop"
   ]
  },
  {
   "cell_type": "code",
   "execution_count": 28,
   "id": "51063383",
   "metadata": {},
   "outputs": [
    {
     "data": {
      "text/plain": [
       "90.0"
      ]
     },
     "execution_count": 28,
     "metadata": {},
     "output_type": "execute_result"
    }
   ],
   "source": [
    "g7_pop[6]"
   ]
  },
  {
   "cell_type": "code",
   "execution_count": 29,
   "id": "9e81b77e",
   "metadata": {},
   "outputs": [],
   "source": [
    "# You can change or set the index of your pandas series\n"
   ]
  },
  {
   "cell_type": "code",
   "execution_count": 31,
   "id": "5783a0d4",
   "metadata": {},
   "outputs": [],
   "source": [
    "g7_pop.index = ['Canada', 'Brazil', 'Togo', \n",
    "                'Nigeria', 'Thailand', 'Japan', 'China']"
   ]
  },
  {
   "cell_type": "code",
   "execution_count": 32,
   "id": "14569e1d",
   "metadata": {},
   "outputs": [
    {
     "data": {
      "text/plain": [
       "Canada      36.80\n",
       "Brazil      50.80\n",
       "Togo        65.30\n",
       "Nigeria     69.70\n",
       "Thailand    80.50\n",
       "Japan       88.65\n",
       "China       90.00\n",
       "Name: G7 Population in Millions, dtype: float64"
      ]
     },
     "execution_count": 32,
     "metadata": {},
     "output_type": "execute_result"
    }
   ],
   "source": [
    "g7_pop"
   ]
  },
  {
   "cell_type": "code",
   "execution_count": 33,
   "id": "247aa36a",
   "metadata": {},
   "outputs": [],
   "source": [
    "# you can also create the series from scratch by assigning index, giving the series a name"
   ]
  },
  {
   "cell_type": "code",
   "execution_count": 35,
   "id": "88751459",
   "metadata": {},
   "outputs": [],
   "source": [
    "flo = pd.Series([25, 28, 35, 20],\n",
    "               index=['Bola', 'Tunde', 'Femi', 'Bukky'],\n",
    "               name = 'family')"
   ]
  },
  {
   "cell_type": "code",
   "execution_count": 36,
   "id": "9aeb3784",
   "metadata": {},
   "outputs": [
    {
     "data": {
      "text/plain": [
       "Bola     25\n",
       "Tunde    28\n",
       "Femi     35\n",
       "Bukky    20\n",
       "Name: family, dtype: int64"
      ]
     },
     "execution_count": 36,
     "metadata": {},
     "output_type": "execute_result"
    }
   ],
   "source": [
    "flo"
   ]
  },
  {
   "cell_type": "code",
   "execution_count": 40,
   "id": "cc6e9341",
   "metadata": {},
   "outputs": [],
   "source": [
    "# you can also create a new series from an existing series by specifying the index\n",
    "\n",
    "new = pd.Series(flo, index=['Tunde', 'Bukky'])"
   ]
  },
  {
   "cell_type": "code",
   "execution_count": 41,
   "id": "f7d2e5e5",
   "metadata": {},
   "outputs": [
    {
     "data": {
      "text/plain": [
       "Tunde    28\n",
       "Bukky    20\n",
       "Name: family, dtype: int64"
      ]
     },
     "execution_count": 41,
     "metadata": {},
     "output_type": "execute_result"
    }
   ],
   "source": [
    "new"
   ]
  },
  {
   "cell_type": "code",
   "execution_count": 42,
   "id": "43212704",
   "metadata": {},
   "outputs": [
    {
     "data": {
      "text/plain": [
       "28"
      ]
     },
     "execution_count": 42,
     "metadata": {},
     "output_type": "execute_result"
    }
   ],
   "source": [
    "new['Tunde']"
   ]
  },
  {
   "cell_type": "code",
   "execution_count": 43,
   "id": "693d6f21",
   "metadata": {},
   "outputs": [],
   "source": [
    "# should incase, you still want to search for element based on their index number\n",
    "# not the index name, use the method 'iloc'.\n",
    "# with 'iloc' method, negative indexing will work"
   ]
  },
  {
   "cell_type": "code",
   "execution_count": 44,
   "id": "f7224b85",
   "metadata": {},
   "outputs": [
    {
     "data": {
      "text/plain": [
       "25"
      ]
     },
     "execution_count": 44,
     "metadata": {},
     "output_type": "execute_result"
    }
   ],
   "source": [
    "flo.iloc[0]"
   ]
  },
  {
   "cell_type": "code",
   "execution_count": 45,
   "id": "285e3925",
   "metadata": {},
   "outputs": [
    {
     "data": {
      "text/plain": [
       "20"
      ]
     },
     "execution_count": 45,
     "metadata": {},
     "output_type": "execute_result"
    }
   ],
   "source": [
    "flo.iloc[-1]"
   ]
  },
  {
   "cell_type": "code",
   "execution_count": 51,
   "id": "fd19d50d",
   "metadata": {},
   "outputs": [
    {
     "data": {
      "text/plain": [
       "Bola     25\n",
       "Tunde    28\n",
       "Femi     35\n",
       "Bukky    20\n",
       "Name: family, dtype: int64"
      ]
     },
     "execution_count": 51,
     "metadata": {},
     "output_type": "execute_result"
    }
   ],
   "source": [
    "flo"
   ]
  },
  {
   "cell_type": "code",
   "execution_count": 52,
   "id": "4f75144d",
   "metadata": {},
   "outputs": [
    {
     "data": {
      "text/plain": [
       "Bola     25\n",
       "Tunde    28\n",
       "Name: family, dtype: int64"
      ]
     },
     "execution_count": 52,
     "metadata": {},
     "output_type": "execute_result"
    }
   ],
   "source": [
    "#you can also pass in multiple indexes at once\n",
    "# this will require double square brackets\n",
    "flo[['Bola', 'Tunde']]"
   ]
  },
  {
   "cell_type": "code",
   "execution_count": 54,
   "id": "f183525b",
   "metadata": {},
   "outputs": [
    {
     "data": {
      "text/plain": [
       "Bola     25\n",
       "Tunde    28\n",
       "Femi     35\n",
       "Name: family, dtype: int64"
      ]
     },
     "execution_count": 54,
     "metadata": {},
     "output_type": "execute_result"
    }
   ],
   "source": [
    "## slicing also works with pandas series with one difference from python list\n",
    "# the upper limit is not printed in python list but in \n",
    "# pandas series, the upper limit is printed\n",
    "\n",
    "flo['Bola':'Femi']"
   ]
  },
  {
   "cell_type": "markdown",
   "id": "028bb53a",
   "metadata": {},
   "source": [
    "### Operations and Methods"
   ]
  },
  {
   "cell_type": "code",
   "execution_count": 55,
   "id": "ba9a2d2c",
   "metadata": {},
   "outputs": [
    {
     "data": {
      "text/plain": [
       "Canada      36.80\n",
       "Brazil      50.80\n",
       "Togo        65.30\n",
       "Nigeria     69.70\n",
       "Thailand    80.50\n",
       "Japan       88.65\n",
       "China       90.00\n",
       "Name: G7 Population in Millions, dtype: float64"
      ]
     },
     "execution_count": 55,
     "metadata": {},
     "output_type": "execute_result"
    }
   ],
   "source": [
    "# you can do arithmetic operations on a panda series\n",
    "\n",
    "g7_pop"
   ]
  },
  {
   "cell_type": "code",
   "execution_count": 57,
   "id": "6e1ccc1d",
   "metadata": {},
   "outputs": [
    {
     "data": {
      "text/plain": [
       "Canada      36800000.0\n",
       "Brazil      50800000.0\n",
       "Togo        65300000.0\n",
       "Nigeria     69700000.0\n",
       "Thailand    80500000.0\n",
       "Japan       88650000.0\n",
       "China       90000000.0\n",
       "Name: G7 Population in Millions, dtype: float64"
      ]
     },
     "execution_count": 57,
     "metadata": {},
     "output_type": "execute_result"
    }
   ],
   "source": [
    "g7_pop * 1_000_000"
   ]
  },
  {
   "cell_type": "markdown",
   "id": "6e9248f6",
   "metadata": {},
   "source": [
    "In Python, there is no difference between the numbers 1000000 and 1_000_000. Both representations are just different ways of writing the same integer value.\n",
    "\n",
    "The underscore character (_) in Python is used as a visual separator for large numbers to enhance readability. When you write a number with underscores, Python ignores the underscores and \n",
    "treats the value the same as if the underscores were not present.\n",
    "\n",
    "So, 1000000 and 1_000_000 represent the exact same integer value of one million. The use of underscores is purely for making the number more readable and easier to comprehend for humans, especially when dealing with large numbers."
   ]
  },
  {
   "cell_type": "code",
   "execution_count": 58,
   "id": "d217e223",
   "metadata": {},
   "outputs": [
    {
     "data": {
      "text/plain": [
       "Canada      36.80\n",
       "Brazil      50.80\n",
       "Togo        65.30\n",
       "Nigeria     69.70\n",
       "Thailand    80.50\n",
       "Japan       88.65\n",
       "China       90.00\n",
       "Name: G7 Population in Millions, dtype: float64"
      ]
     },
     "execution_count": 58,
     "metadata": {},
     "output_type": "execute_result"
    }
   ],
   "source": [
    "g7_pop"
   ]
  },
  {
   "cell_type": "code",
   "execution_count": 59,
   "id": "dba6fa8d",
   "metadata": {},
   "outputs": [
    {
     "data": {
      "text/plain": [
       "Canada      False\n",
       "Brazil      False\n",
       "Togo        False\n",
       "Nigeria     False\n",
       "Thailand     True\n",
       "Japan        True\n",
       "China        True\n",
       "Name: G7 Population in Millions, dtype: bool"
      ]
     },
     "execution_count": 59,
     "metadata": {},
     "output_type": "execute_result"
    }
   ],
   "source": [
    "g7_pop > 70"
   ]
  },
  {
   "cell_type": "code",
   "execution_count": 60,
   "id": "a2e9cb21",
   "metadata": {},
   "outputs": [],
   "source": [
    "# pandas series is also mutable\n",
    "\n",
    "g7_pop['Nigeria'] = 200"
   ]
  },
  {
   "cell_type": "code",
   "execution_count": 61,
   "id": "783af816",
   "metadata": {},
   "outputs": [
    {
     "data": {
      "text/plain": [
       "Canada       36.80\n",
       "Brazil       50.80\n",
       "Togo         65.30\n",
       "Nigeria     200.00\n",
       "Thailand     80.50\n",
       "Japan        88.65\n",
       "China        90.00\n",
       "Name: G7 Population in Millions, dtype: float64"
      ]
     },
     "execution_count": 61,
     "metadata": {},
     "output_type": "execute_result"
    }
   ],
   "source": [
    "g7_pop"
   ]
  },
  {
   "cell_type": "code",
   "execution_count": null,
   "id": "fed95e67",
   "metadata": {},
   "outputs": [],
   "source": []
  },
  {
   "cell_type": "code",
   "execution_count": null,
   "id": "f77b88ac",
   "metadata": {},
   "outputs": [],
   "source": []
  }
 ],
 "metadata": {
  "kernelspec": {
   "display_name": "Python 3 (ipykernel)",
   "language": "python",
   "name": "python3"
  },
  "language_info": {
   "codemirror_mode": {
    "name": "ipython",
    "version": 3
   },
   "file_extension": ".py",
   "mimetype": "text/x-python",
   "name": "python",
   "nbconvert_exporter": "python",
   "pygments_lexer": "ipython3",
   "version": "3.10.9"
  }
 },
 "nbformat": 4,
 "nbformat_minor": 5
}
